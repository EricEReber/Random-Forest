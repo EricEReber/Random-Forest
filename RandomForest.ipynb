{
 "cells": [
  {
   "cell_type": "markdown",
   "id": "159f8d7f-ce0a-4ad4-93e0-d8757630220c",
   "metadata": {},
   "source": [
    "# Decision Trees and Random Forests"
   ]
  },
  {
   "cell_type": "markdown",
   "id": "fb1c6c46-76f7-4b40-bf39-6151cf02f525",
   "metadata": {},
   "source": [
    "Code and notebook written by Eric Reber\n",
    "Center of Computing in Science Education\n",
    "\n",
    "Code and availability https://github.com/EricEReber/Random-Forest\n",
    "\n",
    "This notebook presents a readable implementation for Decision Tree and Random Forest regressors and classifiers for both binary and continuous input data. The code is written using base Python and NumPy.\n",
    "\n",
    "## Introduction\n",
    "\n",
    "Though Decision Trees and Random Forests are some of the more intuitive machine learning methods, so much so that you can explain them to your friends at parties and appear both incredibly smart and down to earth - the nitty gritty details can raise some questions regarding implementation. For example, how do you handle discrete (binary) data differently than continuous input data? How do you find the best split when you have both discrete and continuous data in your input? How do you keep track of the column indices of your input when we split the input dataset at every step when building the tree?\n",
    "\n",
    "Understanding the answers to these questions will not only strengthen your understanding of these important machine learning algorithms, but also ensure your confidence and social standing at your next party.\n",
    "\n",
    "First, we will look at Decision Tree regressors and classifiers and discuss how they differ and what parts they have in common. We will answer some of these key questions, and provide the full code base for individual exploration.\n",
    "\n",
    "Second, we will see how an aggregate of these Decision Trees can be used to create a Random Forest, again looking at both a regression and a classification case.\n",
    "\n",
    "That's it. I hope you enjoy it.\n",
    "\n",
    "## Decision Trees\n",
    "\n",
    "A Decision Tree is a sequence of binary decisions that leads to a prediction. This sequence of binary sequences is often illustrated as a tree structure, and these decisions are learned from the features of our training data. Features can for example be the body size or the neck length of an animal, with the hope being that each animal we predict has a unique combination of answers to our decisions. Here, all the features are binary features. An example of a continuous feature would be different measurements of neck length in cm, and then creating a binary decision based on a specific neck length threshold.\n",
    "\n",
    "![Decision Tree Example](img/decision_tree.png)\n",
    "\n",
    "The image above is from the following article: https://medium.com/@sly.of.zero/decision-trees-bootstrap-aggregating-and-bagging-8c6cf764e689\n",
    "\n",
    "### Decision Tree Classifier\n",
    "\n",
    "The example seen above is an example of a Decision Tree Classifier, where our prediction is a category, such as \"Giraffe\" or \"Elephant\". Let us first start with our data. Let's pretend we have a mix of features, some are discrete $x \\in \\set{0,1}$, for example 0 representing \"short\", 1 representing \"tall\", whilst other are continuous $x \\in \\mathbb{R}$, such as neck length being a measurement of x centimeters. Our features are represented as columns in a matrix, this matrix being our input, with the final column being our labels.\n",
    "\n",
    "An example of an input would be the following matrix\n",
    "\\begin{array}{ccc}\n",
    "\\text{Body size} & \\text{Neck length} & \\text{Animal} \\\\\n",
    "1 & 20 & \\text{Rat} \\\\\n",
    "0 & 100 & \\text{Giraffe} \\\\\n",
    "0 & 15 & \\text{Elephant} \\\\\n",
    "1 & 90 & \\text{Giraffe} \\\\\n",
    "\\end{array}\n",
    "\\]\n",
    "\n",
    "### Decision Tree Regressor"
   ]
  }
 ],
 "metadata": {
  "kernelspec": {
   "display_name": "Python 3 (ipykernel)",
   "language": "python",
   "name": "python3"
  },
  "language_info": {
   "codemirror_mode": {
    "name": "ipython",
    "version": 3
   },
   "file_extension": ".py",
   "mimetype": "text/x-python",
   "name": "python",
   "nbconvert_exporter": "python",
   "pygments_lexer": "ipython3",
   "version": "3.12.4"
  }
 },
 "nbformat": 4,
 "nbformat_minor": 5
}
